{
  "nbformat": 4,
  "nbformat_minor": 0,
  "metadata": {
    "colab": {
      "provenance": [],
      "authorship_tag": "ABX9TyPQBOAvSnGifkFKsLfjEzf1",
      "include_colab_link": true
    },
    "kernelspec": {
      "name": "python3",
      "display_name": "Python 3"
    },
    "language_info": {
      "name": "python"
    }
  },
  "cells": [
    {
      "cell_type": "markdown",
      "metadata": {
        "id": "view-in-github",
        "colab_type": "text"
      },
      "source": [
        "<a href=\"https://colab.research.google.com/github/vaibhav20672004/SELAB-2-/blob/main/se_lab_2.ipynb\" target=\"_parent\"><img src=\"https://colab.research.google.com/assets/colab-badge.svg\" alt=\"Open In Colab\"/></a>"
      ]
    },
    {
      "cell_type": "code",
      "source": [
        "# Hardcoded Variables Example\n",
        "# Program: Calculate the sum of two numbers\n",
        "\n",
        "num1 = 45  # Hardcoded value\n",
        "num2 = 55  # Hardcoded value\n",
        "result = num1 + num2  # Calculate the sum\n",
        "\n",
        "print(f\"Sum of {num1} and {num2} is {result}\")  # Output the result\n"
      ],
      "metadata": {
        "colab": {
          "base_uri": "https://localhost:8080/"
        },
        "id": "-UkK9oUZVPip",
        "outputId": "efd1aed1-dcf9-42ff-8830-151af9eada1d"
      },
      "execution_count": 12,
      "outputs": [
        {
          "output_type": "stream",
          "name": "stdout",
          "text": [
            "Sum of 45 and 55 is 100\n"
          ]
        }
      ]
    },
    {
      "cell_type": "code",
      "execution_count": 1,
      "metadata": {
        "colab": {
          "base_uri": "https://localhost:8080/"
        },
        "id": "FhSjzHZOPLOc",
        "outputId": "ba56fab8-4bec-4c74-ae66-41bc5e40396f"
      },
      "outputs": [
        {
          "output_type": "stream",
          "name": "stdout",
          "text": [
            "Enter the first number: 23\n",
            "Enter the second number: 34\n",
            "Sum of 23 and 34 is 57\n"
          ]
        }
      ],
      "source": [
        "# Keyboard Input Example\n",
        "# Program: Calculate the sum of two numbers with user input\n",
        "\n",
        "try:\n",
        "    num1 = int(input(\"Enter the first number: \"))  # User input for the first number\n",
        "    num2 = int(input(\"Enter the second number: \"))  # User input for the second number\n",
        "    result = num1 + num2  # Calculate the sum\n",
        "    print(f\"Sum of {num1} and {num2} is {result}\")  # Output the result\n",
        "except ValueError:\n",
        "    print(\"Invalid input! Please enter numeric values.\")  # Error message for invalid input\n"
      ]
    },
    {
      "cell_type": "code",
      "source": [
        "# Write a single number to the file\n",
        "with open('single_input.txt', 'w') as file:\n",
        "    file.write(\"15\")\n",
        "\n",
        "print(\"single_input.txt created!\")\n"
      ],
      "metadata": {
        "colab": {
          "base_uri": "https://localhost:8080/"
        },
        "id": "VeSXp4LFStfQ",
        "outputId": "2ddbe343-103e-4d98-9b39-3375a4e71ab1"
      },
      "execution_count": 5,
      "outputs": [
        {
          "output_type": "stream",
          "name": "stdout",
          "text": [
            "single_input.txt created!\n"
          ]
        }
      ]
    },
    {
      "cell_type": "code",
      "source": [
        "# Read From File (Single Input) Example\n",
        "# Program: Read a single number from a file and add 20\n",
        "\n",
        "try:\n",
        "    with open('single_input.txt', 'r') as file:\n",
        "        num = int(file.read().strip())  # Read and strip whitespace\n",
        "        result = num + 20  # Add 20 to the number\n",
        "\n",
        "    print(f\"Number from file: {num}, After addition: {result}\")  # Output the result\n",
        "\n",
        "except FileNotFoundError:\n",
        "    print(\"File not found. Please create a file named 'single_input.txt'.\")\n",
        "except ValueError:\n",
        "    print(\"File content must be a valid integer.\")\n"
      ],
      "metadata": {
        "colab": {
          "base_uri": "https://localhost:8080/"
        },
        "id": "enySfwJxS-8X",
        "outputId": "e5794582-4a42-47b8-c8f0-945155b9ad11"
      },
      "execution_count": 6,
      "outputs": [
        {
          "output_type": "stream",
          "name": "stdout",
          "text": [
            "Number from file: 15, After addition: 35\n"
          ]
        }
      ]
    },
    {
      "cell_type": "code",
      "source": [
        "# Write multiple numbers to a file\n",
        "with open('multiple_inputs.txt', 'w') as file:\n",
        "    file.write(\"60\\n80\\n40\")  # Write multiple numbers, each on a new line\n",
        "\n",
        "print(\"multiple_inputs.txt created!\")  # Confirmation message\n"
      ],
      "metadata": {
        "colab": {
          "base_uri": "https://localhost:8080/"
        },
        "id": "Wvj4P5CKTjWm",
        "outputId": "bf5d56af-1877-482c-b2ef-d286c3474ab6"
      },
      "execution_count": 9,
      "outputs": [
        {
          "output_type": "stream",
          "name": "stdout",
          "text": [
            "multiple_inputs.txt created!\n"
          ]
        }
      ]
    },
    {
      "cell_type": "code",
      "source": [
        "# Read From File (Multiple Inputs) Example\n",
        "# Program: Read multiple numbers from a file and calculate their sum\n",
        "\n",
        "try:\n",
        "    with open('multiple_inputs.txt', 'r') as file:\n",
        "        numbers = file.readlines()  # Read all lines from the file\n",
        "        numbers = [int(num.strip()) for num in numbers]  # Convert each line to an integer\n",
        "\n",
        "    result = sum(numbers)  # Calculate the sum of the numbers\n",
        "    print(f\"Numbers from file: {numbers}, Sum: {result}\")  # Output the numbers and their sum\n",
        "\n",
        "except FileNotFoundError:\n",
        "    print(\"File not found. Please create a file named 'multiple_inputs.txt'.\")\n",
        "except ValueError:\n",
        "    print(\"File content must contain valid integers.\")\n"
      ],
      "metadata": {
        "colab": {
          "base_uri": "https://localhost:8080/"
        },
        "id": "rbWZCWrbUdTC",
        "outputId": "f2cf291d-552f-48cf-a1cf-7b5b938cc317"
      },
      "execution_count": 10,
      "outputs": [
        {
          "output_type": "stream",
          "name": "stdout",
          "text": [
            "Numbers from file: [60, 80, 40], Sum: 180\n"
          ]
        }
      ]
    }
  ]
}